{
 "cells": [
  {
   "cell_type": "code",
   "execution_count": 3,
   "id": "d97b2e8c-19b5-4383-b41f-c60d33616113",
   "metadata": {},
   "outputs": [],
   "source": [
    "import pandas as pd\n",
    "import numpy as np\n",
    "import seaborn as sns\n",
    "import matplotlib.pyplot as plt\n",
    "from scipy.stats import norm\n",
    "import warnings\n",
    "warnings.filterwarnings(\"ignore\")\n",
    "\n",
    "%matplotlib inline\n",
    "sns.set()\n",
    "plt.style.use('bmh')"
   ]
  },
  {
   "cell_type": "code",
   "execution_count": 4,
   "id": "495a07ab-9fe2-424d-b789-618a78ed1ed2",
   "metadata": {},
   "outputs": [
    {
     "data": {
      "text/html": [
       "<div>\n",
       "<style scoped>\n",
       "    .dataframe tbody tr th:only-of-type {\n",
       "        vertical-align: middle;\n",
       "    }\n",
       "\n",
       "    .dataframe tbody tr th {\n",
       "        vertical-align: top;\n",
       "    }\n",
       "\n",
       "    .dataframe thead th {\n",
       "        text-align: right;\n",
       "    }\n",
       "</style>\n",
       "<table border=\"1\" class=\"dataframe\">\n",
       "  <thead>\n",
       "    <tr style=\"text-align: right;\">\n",
       "      <th></th>\n",
       "      <th>user_id</th>\n",
       "      <th>group</th>\n",
       "      <th>views</th>\n",
       "      <th>clicks</th>\n",
       "    </tr>\n",
       "  </thead>\n",
       "  <tbody>\n",
       "    <tr>\n",
       "      <th>0</th>\n",
       "      <td>1</td>\n",
       "      <td>control</td>\n",
       "      <td>10.0</td>\n",
       "      <td>0.0</td>\n",
       "    </tr>\n",
       "    <tr>\n",
       "      <th>1</th>\n",
       "      <td>2</td>\n",
       "      <td>control</td>\n",
       "      <td>1.0</td>\n",
       "      <td>0.0</td>\n",
       "    </tr>\n",
       "    <tr>\n",
       "      <th>2</th>\n",
       "      <td>3</td>\n",
       "      <td>control</td>\n",
       "      <td>1.0</td>\n",
       "      <td>0.0</td>\n",
       "    </tr>\n",
       "    <tr>\n",
       "      <th>3</th>\n",
       "      <td>4</td>\n",
       "      <td>control</td>\n",
       "      <td>2.0</td>\n",
       "      <td>0.0</td>\n",
       "    </tr>\n",
       "    <tr>\n",
       "      <th>4</th>\n",
       "      <td>5</td>\n",
       "      <td>control</td>\n",
       "      <td>3.0</td>\n",
       "      <td>0.0</td>\n",
       "    </tr>\n",
       "  </tbody>\n",
       "</table>\n",
       "</div>"
      ],
      "text/plain": [
       "   user_id    group  views  clicks\n",
       "0        1  control   10.0     0.0\n",
       "1        2  control    1.0     0.0\n",
       "2        3  control    1.0     0.0\n",
       "3        4  control    2.0     0.0\n",
       "4        5  control    3.0     0.0"
      ]
     },
     "execution_count": 4,
     "metadata": {},
     "output_type": "execute_result"
    }
   ],
   "source": [
    "df=pd.read_csv(r'C:\\Users\\dorot\\Downloads\\AB testing\\AB_Clicks.csv')\n",
    "df.head()"
   ]
  },
  {
   "cell_type": "code",
   "execution_count": 6,
   "id": "f4d0d836-388b-4ecc-82f9-e1078e8d2f10",
   "metadata": {},
   "outputs": [
    {
     "name": "stdout",
     "output_type": "stream",
     "text": [
      "<class 'pandas.core.frame.DataFrame'>\n",
      "RangeIndex: 120000 entries, 0 to 119999\n",
      "Data columns (total 4 columns):\n",
      " #   Column   Non-Null Count   Dtype  \n",
      "---  ------   --------------   -----  \n",
      " 0   user_id  120000 non-null  int64  \n",
      " 1   group    120000 non-null  object \n",
      " 2   views    120000 non-null  float64\n",
      " 3   clicks   120000 non-null  float64\n",
      "dtypes: float64(2), int64(1), object(1)\n",
      "memory usage: 3.7+ MB\n"
     ]
    }
   ],
   "source": [
    "df.info()"
   ]
  },
  {
   "cell_type": "code",
   "execution_count": 8,
   "id": "403f1e23-6b83-4328-a97d-6cce9d5f4a9b",
   "metadata": {},
   "outputs": [
    {
     "data": {
      "text/html": [
       "<div>\n",
       "<style scoped>\n",
       "    .dataframe tbody tr th:only-of-type {\n",
       "        vertical-align: middle;\n",
       "    }\n",
       "\n",
       "    .dataframe tbody tr th {\n",
       "        vertical-align: top;\n",
       "    }\n",
       "\n",
       "    .dataframe thead th {\n",
       "        text-align: right;\n",
       "    }\n",
       "</style>\n",
       "<table border=\"1\" class=\"dataframe\">\n",
       "  <thead>\n",
       "    <tr style=\"text-align: right;\">\n",
       "      <th></th>\n",
       "      <th>user_id</th>\n",
       "      <th>views</th>\n",
       "      <th>clicks</th>\n",
       "    </tr>\n",
       "  </thead>\n",
       "  <tbody>\n",
       "    <tr>\n",
       "      <th>count</th>\n",
       "      <td>120000.000000</td>\n",
       "      <td>120000.000000</td>\n",
       "      <td>120000.000000</td>\n",
       "    </tr>\n",
       "    <tr>\n",
       "      <th>mean</th>\n",
       "      <td>60000.500000</td>\n",
       "      <td>4.991075</td>\n",
       "      <td>0.182692</td>\n",
       "    </tr>\n",
       "    <tr>\n",
       "      <th>std</th>\n",
       "      <td>34641.160489</td>\n",
       "      <td>5.915200</td>\n",
       "      <td>0.472547</td>\n",
       "    </tr>\n",
       "    <tr>\n",
       "      <th>min</th>\n",
       "      <td>1.000000</td>\n",
       "      <td>1.000000</td>\n",
       "      <td>0.000000</td>\n",
       "    </tr>\n",
       "    <tr>\n",
       "      <th>25%</th>\n",
       "      <td>30000.750000</td>\n",
       "      <td>2.000000</td>\n",
       "      <td>0.000000</td>\n",
       "    </tr>\n",
       "    <tr>\n",
       "      <th>50%</th>\n",
       "      <td>60000.500000</td>\n",
       "      <td>3.000000</td>\n",
       "      <td>0.000000</td>\n",
       "    </tr>\n",
       "    <tr>\n",
       "      <th>75%</th>\n",
       "      <td>90000.250000</td>\n",
       "      <td>6.000000</td>\n",
       "      <td>0.000000</td>\n",
       "    </tr>\n",
       "    <tr>\n",
       "      <th>max</th>\n",
       "      <td>120000.000000</td>\n",
       "      <td>205.000000</td>\n",
       "      <td>9.000000</td>\n",
       "    </tr>\n",
       "  </tbody>\n",
       "</table>\n",
       "</div>"
      ],
      "text/plain": [
       "             user_id          views         clicks\n",
       "count  120000.000000  120000.000000  120000.000000\n",
       "mean    60000.500000       4.991075       0.182692\n",
       "std     34641.160489       5.915200       0.472547\n",
       "min         1.000000       1.000000       0.000000\n",
       "25%     30000.750000       2.000000       0.000000\n",
       "50%     60000.500000       3.000000       0.000000\n",
       "75%     90000.250000       6.000000       0.000000\n",
       "max    120000.000000     205.000000       9.000000"
      ]
     },
     "execution_count": 8,
     "metadata": {},
     "output_type": "execute_result"
    }
   ],
   "source": [
    "df.describe()"
   ]
  },
  {
   "cell_type": "code",
   "execution_count": 16,
   "id": "2cb08f33-faab-457e-b5fe-ef9599c7998e",
   "metadata": {},
   "outputs": [
    {
     "data": {
      "text/html": [
       "<div>\n",
       "<style scoped>\n",
       "    .dataframe tbody tr th:only-of-type {\n",
       "        vertical-align: middle;\n",
       "    }\n",
       "\n",
       "    .dataframe tbody tr th {\n",
       "        vertical-align: top;\n",
       "    }\n",
       "\n",
       "    .dataframe thead th {\n",
       "        text-align: right;\n",
       "    }\n",
       "</style>\n",
       "<table border=\"1\" class=\"dataframe\">\n",
       "  <thead>\n",
       "    <tr style=\"text-align: right;\">\n",
       "      <th></th>\n",
       "      <th>user_id</th>\n",
       "      <th>group</th>\n",
       "      <th>views</th>\n",
       "      <th>clicks</th>\n",
       "    </tr>\n",
       "  </thead>\n",
       "  <tbody>\n",
       "  </tbody>\n",
       "</table>\n",
       "</div>"
      ],
      "text/plain": [
       "Empty DataFrame\n",
       "Columns: [user_id, group, views, clicks]\n",
       "Index: []"
      ]
     },
     "execution_count": 16,
     "metadata": {},
     "output_type": "execute_result"
    }
   ],
   "source": [
    "df[df.duplicated()]"
   ]
  },
  {
   "cell_type": "code",
   "execution_count": 12,
   "id": "6ed3a6ba-43ed-49be-957c-bd2c7bf282eb",
   "metadata": {},
   "outputs": [
    {
     "name": "stdout",
     "output_type": "stream",
     "text": [
      "Unique groups:  ['control' 'test']\n"
     ]
    }
   ],
   "source": [
    "print('Unique groups: ', df['group'].unique())"
   ]
  },
  {
   "cell_type": "code",
   "execution_count": 14,
   "id": "726d4aaa-242e-4bd2-8806-0a61b1b60aec",
   "metadata": {},
   "outputs": [
    {
     "data": {
      "text/plain": [
       "group\n",
       "control    60000\n",
       "test       60000\n",
       "Name: count, dtype: int64"
      ]
     },
     "execution_count": 14,
     "metadata": {},
     "output_type": "execute_result"
    }
   ],
   "source": [
    "df['group'].value_counts()"
   ]
  },
  {
   "cell_type": "code",
   "execution_count": 11,
   "id": "45c59063-6c76-4704-a9d4-bf208ce4b836",
   "metadata": {},
   "outputs": [
    {
     "data": {
      "text/html": [
       "<div>\n",
       "<style scoped>\n",
       "    .dataframe tbody tr th:only-of-type {\n",
       "        vertical-align: middle;\n",
       "    }\n",
       "\n",
       "    .dataframe tbody tr th {\n",
       "        vertical-align: top;\n",
       "    }\n",
       "\n",
       "    .dataframe thead th {\n",
       "        text-align: right;\n",
       "    }\n",
       "</style>\n",
       "<table border=\"1\" class=\"dataframe\">\n",
       "  <thead>\n",
       "    <tr style=\"text-align: right;\">\n",
       "      <th></th>\n",
       "      <th>user_id</th>\n",
       "      <th>group</th>\n",
       "      <th>views</th>\n",
       "      <th>clicks</th>\n",
       "      <th>converted</th>\n",
       "    </tr>\n",
       "  </thead>\n",
       "  <tbody>\n",
       "    <tr>\n",
       "      <th>0</th>\n",
       "      <td>1</td>\n",
       "      <td>control</td>\n",
       "      <td>10.0</td>\n",
       "      <td>0.0</td>\n",
       "      <td>0</td>\n",
       "    </tr>\n",
       "    <tr>\n",
       "      <th>1</th>\n",
       "      <td>2</td>\n",
       "      <td>control</td>\n",
       "      <td>1.0</td>\n",
       "      <td>0.0</td>\n",
       "      <td>0</td>\n",
       "    </tr>\n",
       "    <tr>\n",
       "      <th>2</th>\n",
       "      <td>3</td>\n",
       "      <td>control</td>\n",
       "      <td>1.0</td>\n",
       "      <td>0.0</td>\n",
       "      <td>0</td>\n",
       "    </tr>\n",
       "    <tr>\n",
       "      <th>3</th>\n",
       "      <td>4</td>\n",
       "      <td>control</td>\n",
       "      <td>2.0</td>\n",
       "      <td>0.0</td>\n",
       "      <td>0</td>\n",
       "    </tr>\n",
       "    <tr>\n",
       "      <th>4</th>\n",
       "      <td>5</td>\n",
       "      <td>control</td>\n",
       "      <td>3.0</td>\n",
       "      <td>0.0</td>\n",
       "      <td>0</td>\n",
       "    </tr>\n",
       "  </tbody>\n",
       "</table>\n",
       "</div>"
      ],
      "text/plain": [
       "   user_id    group  views  clicks  converted\n",
       "0        1  control   10.0     0.0          0\n",
       "1        2  control    1.0     0.0          0\n",
       "2        3  control    1.0     0.0          0\n",
       "3        4  control    2.0     0.0          0\n",
       "4        5  control    3.0     0.0          0"
      ]
     },
     "execution_count": 11,
     "metadata": {},
     "output_type": "execute_result"
    }
   ],
   "source": [
    "df['converted'] = df['clicks'] > 0\n",
    "df['converted'].replace({True:1,False:0},inplace=True)\n",
    "df.head()"
   ]
  },
  {
   "cell_type": "code",
   "execution_count": 32,
   "id": "8d95074d-d384-4768-8d83-e67d7856fd7d",
   "metadata": {},
   "outputs": [],
   "source": [
    "df['ctr'] = df['clicks'] / df['views']"
   ]
  },
  {
   "cell_type": "code",
   "execution_count": 36,
   "id": "e6e68d24-2c94-4e4a-a53a-e85196d6e4ec",
   "metadata": {},
   "outputs": [
    {
     "name": "stdout",
     "output_type": "stream",
     "text": [
      "<class 'pandas.core.frame.DataFrame'>\n",
      "RangeIndex: 120000 entries, 0 to 119999\n",
      "Data columns (total 6 columns):\n",
      " #   Column     Non-Null Count   Dtype  \n",
      "---  ------     --------------   -----  \n",
      " 0   user_id    120000 non-null  int64  \n",
      " 1   group      120000 non-null  object \n",
      " 2   views      120000 non-null  float64\n",
      " 3   clicks     120000 non-null  float64\n",
      " 4   converted  120000 non-null  int64  \n",
      " 5   ctr        120000 non-null  float64\n",
      "dtypes: float64(3), int64(2), object(1)\n",
      "memory usage: 5.5+ MB\n"
     ]
    }
   ],
   "source": [
    "df.info()"
   ]
  },
  {
   "cell_type": "code",
   "execution_count": 40,
   "id": "b19693e1-12f5-47e5-991a-618afa748d2f",
   "metadata": {},
   "outputs": [
    {
     "data": {
      "text/html": [
       "<div>\n",
       "<style scoped>\n",
       "    .dataframe tbody tr th:only-of-type {\n",
       "        vertical-align: middle;\n",
       "    }\n",
       "\n",
       "    .dataframe tbody tr th {\n",
       "        vertical-align: top;\n",
       "    }\n",
       "\n",
       "    .dataframe thead th {\n",
       "        text-align: right;\n",
       "    }\n",
       "</style>\n",
       "<table border=\"1\" class=\"dataframe\">\n",
       "  <thead>\n",
       "    <tr style=\"text-align: right;\">\n",
       "      <th></th>\n",
       "      <th>group</th>\n",
       "      <th>total_conversions</th>\n",
       "      <th>total_users</th>\n",
       "    </tr>\n",
       "  </thead>\n",
       "  <tbody>\n",
       "    <tr>\n",
       "      <th>0</th>\n",
       "      <td>control</td>\n",
       "      <td>8820</td>\n",
       "      <td>60000</td>\n",
       "    </tr>\n",
       "    <tr>\n",
       "      <th>1</th>\n",
       "      <td>test</td>\n",
       "      <td>9703</td>\n",
       "      <td>60000</td>\n",
       "    </tr>\n",
       "  </tbody>\n",
       "</table>\n",
       "</div>"
      ],
      "text/plain": [
       "     group  total_conversions  total_users\n",
       "0  control               8820        60000\n",
       "1     test               9703        60000"
      ]
     },
     "execution_count": 40,
     "metadata": {},
     "output_type": "execute_result"
    }
   ],
   "source": [
    "#summary = df.groupby('group').agg(total_conversions=('converted', 'sum'),total_users=('user_id', 'count')).reset_index()\n",
    "#summary"
   ]
  },
  {
   "cell_type": "code",
   "execution_count": 50,
   "id": "88083dfd-fc68-4eb3-9618-e6468425e0c4",
   "metadata": {},
   "outputs": [
    {
     "data": {
      "text/html": [
       "<div>\n",
       "<style scoped>\n",
       "    .dataframe tbody tr th:only-of-type {\n",
       "        vertical-align: middle;\n",
       "    }\n",
       "\n",
       "    .dataframe tbody tr th {\n",
       "        vertical-align: top;\n",
       "    }\n",
       "\n",
       "    .dataframe thead th {\n",
       "        text-align: right;\n",
       "    }\n",
       "</style>\n",
       "<table border=\"1\" class=\"dataframe\">\n",
       "  <thead>\n",
       "    <tr style=\"text-align: right;\">\n",
       "      <th></th>\n",
       "      <th>total_users</th>\n",
       "      <th>total_conversions</th>\n",
       "      <th>conversion_rate (%)</th>\n",
       "    </tr>\n",
       "    <tr>\n",
       "      <th>group</th>\n",
       "      <th></th>\n",
       "      <th></th>\n",
       "      <th></th>\n",
       "    </tr>\n",
       "  </thead>\n",
       "  <tbody>\n",
       "    <tr>\n",
       "      <th>control</th>\n",
       "      <td>60000</td>\n",
       "      <td>8820</td>\n",
       "      <td>14.700000</td>\n",
       "    </tr>\n",
       "    <tr>\n",
       "      <th>test</th>\n",
       "      <td>60000</td>\n",
       "      <td>9703</td>\n",
       "      <td>16.171667</td>\n",
       "    </tr>\n",
       "  </tbody>\n",
       "</table>\n",
       "</div>"
      ],
      "text/plain": [
       "         total_users  total_conversions  conversion_rate (%)\n",
       "group                                                       \n",
       "control        60000               8820            14.700000\n",
       "test           60000               9703            16.171667"
      ]
     },
     "execution_count": 50,
     "metadata": {},
     "output_type": "execute_result"
    }
   ],
   "source": [
    "total_users = df.groupby('group')['user_id'].count()\n",
    "total_conversions = df.groupby('group')['converted'].sum()\n",
    "summary = pd.DataFrame({\n",
    "    'total_users': total_users,\n",
    "    'total_conversions': total_conversions\n",
    "})\n",
    "summary['conversion_rate (%)'] = 100 * summary['total_conversions'] / summary['total_users']\n",
    "summary"
   ]
  },
  {
   "cell_type": "code",
   "execution_count": 48,
   "id": "cc9cfe08-b0cf-492b-b5a7-92395e6caadc",
   "metadata": {},
   "outputs": [
    {
     "data": {
      "image/png": "[encoded data removed]",
      "text/plain": [
       "<Figure size 640x480 with 1 Axes>"
      ]
     },
     "metadata": {},
     "output_type": "display_data"
    }
   ],
   "source": [
    "palette={0:'red',1:'skyblue'}\n",
    "ax=sns.countplot(data=df,x='group',hue='converted',palette=palette)\n",
    "plt.title('Click Distribution by Group')\n",
    "plt.xlabel('Group')\n",
    "plt.ylabel('Count')\n",
    "plt.legend(title='Click',labels=['No','Yes'])\n",
    "\n",
    "for p in ax.patches:\n",
    "    count = int(p.get_height())\n",
    "    x = p.get_x() + p.get_width() / 2\n",
    "    y = p.get_height()\n",
    "    ax.annotate(f'{count}', (x, y), ha='center', va='bottom')\n",
    "    \n",
    "plt.show()"
   ]
  },
  {
   "cell_type": "code",
   "execution_count": 54,
   "id": "6a642474-c2ce-4e49-9bf9-9add32e9770b",
   "metadata": {},
   "outputs": [],
   "source": [
    "#significance level\n",
    "alpha=0.05\n",
    "#minimum detectable effect\n",
    "delta=0.1"
   ]
  },
  {
   "cell_type": "code",
   "execution_count": 74,
   "id": "4922ae91-9642-423a-8e61-ce0944ad38c5",
   "metadata": {},
   "outputs": [
    {
     "name": "stdout",
     "output_type": "stream",
     "text": [
      "Total Clicks for Control Group: 8820\n",
      "Total Clicks for Test Group: 9703\n",
      "Total Users for Control Group: 60000\n",
      "Total Users for Test Group: 60000\n"
     ]
    }
   ],
   "source": [
    "X_control=df[df['group']=='control'].groupby('group')['converted'].sum().values[0]\n",
    "X_test=df[df['group']=='test'].groupby('group')['converted'].sum().values[0]\n",
    "N_control=df[df['group']=='control'].groupby('group')['group'].count().values[0]\n",
    "N_test=df[df['group']=='test'].groupby('group')['group'].count().values[0]\n",
    "print('Total Clicks for Control Group:', X_control)\n",
    "print('Total Clicks for Test Group:', X_test)\n",
    "print('Total Users for Control Group:', N_control)\n",
    "print('Total Users for Test Group:', N_test)"
   ]
  },
  {
   "cell_type": "markdown",
   "id": "aec53bdf-ac33-4b9e-bdbf-7972069f01ef",
   "metadata": {},
   "source": [
    "### Calculating Pooled Estimates"
   ]
  },
  {
   "cell_type": "code",
   "execution_count": 87,
   "id": "18174258-168e-46fe-8efe-b8e6c0550498",
   "metadata": {},
   "outputs": [
    {
     "name": "stdout",
     "output_type": "stream",
     "text": [
      "Click Probability in Control group: 0.147\n",
      "Click Probability in Test group: 0.162\n",
      "Pooled Click Probability: 0.154\n"
     ]
    }
   ],
   "source": [
    "p_con_hat=X_control/N_control\n",
    "p_test_hat=X_test/N_test\n",
    "print('Click Probability in Control group:',round(p_con_hat,3))\n",
    "print('Click Probability in Test group:',round(p_test_hat,3))\n",
    "p_pooled_hat=(X_test+X_control)/(N_test+N_control)\n",
    "print('Pooled Click Probability:',round(p_pooled_hat,3))"
   ]
  },
  {
   "cell_type": "markdown",
   "id": "520ae9a4-9d52-418d-af86-acb7250624c5",
   "metadata": {},
   "source": [
    "### Calculating Pooled Variance"
   ]
  },
  {
   "cell_type": "code",
   "execution_count": 95,
   "id": "5c9c6378-6c65-4d19-83fa-f36fe19d60ef",
   "metadata": {},
   "outputs": [
    {
     "name": "stdout",
     "output_type": "stream",
     "text": [
      "p_pooled: 0.1544\n",
      "pooled_variance: 4.351061275462963e-06\n"
     ]
    }
   ],
   "source": [
    "pooled_variance=p_pooled_hat*(1-p_pooled_hat)*(1/N_control+1/N_test)\n",
    "print('p_pooled:',round(p_pooled_hat,4))\n",
    "print('pooled_variance:',pooled_variance)"
   ]
  },
  {
   "cell_type": "markdown",
   "id": "291db5fc-ec63-4134-a0aa-4369824666b8",
   "metadata": {},
   "source": [
    "### Calculating Standard Error and Test Statistics"
   ]
  },
  {
   "cell_type": "code",
   "execution_count": 97,
   "id": "df77a817-4d6d-4f11-98c7-7c2bf457f9ee",
   "metadata": {},
   "outputs": [
    {
     "name": "stdout",
     "output_type": "stream",
     "text": [
      "Standard Error: 0.002085919767264063\n",
      "Test Statistics for 2-sample Z test: -7.055241000937145\n",
      "Z-critical value from Standard Normal distribution: 1.959963984540054\n"
     ]
    }
   ],
   "source": [
    "SE=np.sqrt(pooled_variance)\n",
    "print('Standard Error:',SE)\n",
    "test_stat=(p_con_hat-p_test_hat)/SE\n",
    "print('Test Statistics for 2-sample Z test:',test_stat)\n",
    "Z_crit=norm.ppf(1-alpha/2)\n",
    "print('Z-critical value from Standard Normal distribution:',Z_crit)"
   ]
  },
  {
   "cell_type": "markdown",
   "id": "db4f4017-824e-46da-892e-f4a8c39ec849",
   "metadata": {},
   "source": [
    "### Calculating p values of the Z test   \n",
    "p<=0.05, reject null   \n",
    "p>0.05, we fail to reject null"
   ]
  },
  {
   "cell_type": "code",
   "execution_count": 104,
   "id": "bfa557df-09e7-4cc8-8b46-dd7c7c053324",
   "metadata": {},
   "outputs": [
    {
     "name": "stdout",
     "output_type": "stream",
     "text": [
      "P-value of the 2-sample Z-test: 0.0\n",
      "There is statistical significance\n"
     ]
    }
   ],
   "source": [
    "p_value=2*norm.sf(abs(test_stat))\n",
    "def is_statical_significance(p_value,alpha):\n",
    "    print(f'P-value of the 2-sample Z-test: {round(p_value,3)}')\n",
    "    if p_value<alpha:\n",
    "        print('There is statistical significance')\n",
    "    else:\n",
    "        print('There is no statistical significance')\n",
    "\n",
    "is_statical_significance(p_value,alpha)"
   ]
  },
  {
   "cell_type": "code",
   "execution_count": 128,
   "id": "28144b69-76b0-4c59-9720-8d937ea5f7c5",
   "metadata": {},
   "outputs": [
    {
     "name": "stdout",
     "output_type": "stream",
     "text": [
      "T-test: -5.871485328700066\n",
      "p_val: 0.00000000433\n"
     ]
    }
   ],
   "source": [
    "control_ctrs = df[df['group'] == 'control']['ctr']\n",
    "test_ctrs = df[df['group'] == 'test']['ctr']\n",
    "\n",
    "from scipy.stats import ttest_ind\n",
    "t_stat, p_val = ttest_ind(control_ctrs, test_ctrs, equal_var=False)\n",
    "print(f\"T-test: {t_stat}\")\n",
    "print(f\"p_val: {p_val:.11f}\")"
   ]
  },
  {
   "cell_type": "code",
   "execution_count": 110,
   "id": "41a31193-5cfb-4926-ad2b-425df732177b",
   "metadata": {},
   "outputs": [
    {
     "name": "stdout",
     "output_type": "stream",
     "text": [
      "Mean CTR - Control Group: 0.0347\n",
      "Mean CTR - Test Group:    0.0386\n"
     ]
    }
   ],
   "source": [
    "mean_control_ctr = control_ctrs.mean()\n",
    "mean_test_ctr = test_ctrs.mean()\n",
    "\n",
    "print(f\"Mean CTR - Control Group: {mean_control_ctr:.4f}\")\n",
    "print(f\"Mean CTR - Test Group:    {mean_test_ctr:.4f}\")"
   ]
  },
  {
   "cell_type": "code",
   "execution_count": 112,
   "id": "25b52900-8b24-4140-8a6b-c06494599666",
   "metadata": {},
   "outputs": [
    {
     "name": "stdout",
     "output_type": "stream",
     "text": [
      "Cohen's d: 0.034\n"
     ]
    }
   ],
   "source": [
    "std_control = control_ctrs.std()\n",
    "std_test = test_ctrs.std()\n",
    "\n",
    "n1, n2 = len(control_ctrs), len(test_ctrs)\n",
    "pooled_std = np.sqrt(((n1 - 1)*std_control**2 + (n2 - 1)*std_test**2) / (n1 + n2 - 2))\n",
    "\n",
    "cohen_d = (mean_test_ctr - mean_control_ctr) / pooled_std\n",
    "print(f\"Cohen's d: {cohen_d:.3f}\")"
   ]
  },
  {
   "cell_type": "code",
   "execution_count": 7,
   "id": "ab356970-52d1-408a-a2e4-223b6181a6ab",
   "metadata": {},
   "outputs": [
    {
     "name": "stdout",
     "output_type": "stream",
     "text": [
      "Avg clicks per user - Control: 0.172\n",
      "Avg clicks per user - Test: 0.194\n",
      "T-statistic: 8.048\n",
      "P-value: 0.000\n",
      "Statistically significant difference in average clicks.\n"
     ]
    }
   ],
   "source": [
    "from scipy.stats import ttest_ind\n",
    "\n",
    "# Get clicks for each user in both groups\n",
    "control_clicks = df[df['group'] == 'control']['clicks']\n",
    "test_clicks = df[df['group'] == 'test']['clicks']\n",
    "\n",
    "# Summary stats\n",
    "print(f'Avg clicks per user - Control: {control_clicks.mean():.3f}')\n",
    "print(f'Avg clicks per user - Test: {test_clicks.mean():.3f}')\n",
    "\n",
    "# Two-sample t-test\n",
    "t_stat, p_val = ttest_ind(test_clicks, control_clicks, equal_var=False)  # Welch's t-test is safer\n",
    "print(f'T-statistic: {t_stat:.3f}')\n",
    "print(f'P-value: {p_val:.3f}')\n",
    "\n",
    "# Interpret\n",
    "alpha = 0.05\n",
    "if p_val < alpha:\n",
    "    print(\"Statistically significant difference in average clicks.\")\n",
    "else:\n",
    "    print(\"No statistically significant difference in average clicks.\")\n"
   ]
  },
  {
   "cell_type": "code",
   "execution_count": null,
   "id": "0b2fc5c7-8189-4390-9666-f49614e97f27",
   "metadata": {},
   "outputs": [],
   "source": []
  }
 ],
 "metadata": {
  "kernelspec": {
   "display_name": "Python [conda env:base] *",
   "language": "python",
   "name": "conda-base-py"
  },
  "language_info": {
   "codemirror_mode": {
    "name": "ipython",
    "version": 3
   },
   "file_extension": ".py",
   "mimetype": "text/x-python",
   "name": "python",
   "nbconvert_exporter": "python",
   "pygments_lexer": "ipython3",
   "version": "3.12.7"
  }
 },
 "nbformat": 4,
 "nbformat_minor": 5
}
