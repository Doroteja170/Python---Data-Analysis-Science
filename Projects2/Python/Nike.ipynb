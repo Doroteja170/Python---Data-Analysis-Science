{
 "cells": [
  {
   "cell_type": "code",
   "execution_count": 97,
   "id": "23bd3ea6-631c-4f22-a800-91dbad4b3957",
   "metadata": {},
   "outputs": [],
   "source": [
    "from bs4 import BeautifulSoup\n",
    "import requests\n",
    "import pandas as pd\n",
    "import numpy as np"
   ]
  },
  {
   "cell_type": "code",
   "execution_count": 63,
   "id": "218eff12-4117-438b-865b-5c2f0d2a163c",
   "metadata": {},
   "outputs": [],
   "source": [
    "url='https://www.nike.com/w/womens-shoes-5e1x6zy7ok'\n",
    "URL=requests.get(url)\n",
    "headers={\"User-Agent\": \"Mozilla/5.0 (Windows NT 10.0; Win64; x64) AppleWebKit/537.36 (KHTML, like Gecko) Chrome/132.0.0.0 Safari/537.36\", \"Accept-Encoding\":\"gzip, deflate\", \"Accept\":\"text/html,application/xhtml+xml,application/xml;q=0.9,*/*;q=0.8\", \"DNT\":\"1\",\"Connection\":\"close\", \"Upgrade-Insecure-Requests\":\"1\"}"
   ]
  },
  {
   "cell_type": "code",
   "execution_count": 129,
   "id": "a3835609-6bac-493c-9a57-35ed0663c8c1",
   "metadata": {},
   "outputs": [
    {
     "name": "stdout",
     "output_type": "stream",
     "text": [
      "Nike Dunk Low Next Nature\n",
      "Nike Air Max 90 SE\n",
      "Nike LD-1000\n",
      "Nike Court Legacy Lift\n",
      "Nike P-6000\n",
      "Nike Field General\n",
      "Nike Free Metcon 6\n",
      "Nike Metcon 9 Premium\n",
      "Nike Air Max 270\n",
      "Nike Air Max Dn\n",
      "Nike Shox TL\n",
      "Nike Shox R4\n",
      "Nike V2K Run\n",
      "Nike Zoom Vomero 5\n",
      "Sabrina 2\n",
      "Nike ReactX Rejuven8\n",
      "Nike Invincible 3 Premium\n",
      "Nike Pegasus Premium\n",
      "Nike Vaporfly 3\n",
      "Nike Pegasus 41 PRM\n",
      "Nike Structure 25 Premium\n",
      "Nike Pegasus 41 GORE-TEX\n",
      "Nike Vomero 17\n",
      "Nike Motiva Premium\n"
     ]
    }
   ],
   "source": [
    "soup=BeautifulSoup(URL.content,'html.parser')\n",
    "soup2 = BeautifulSoup(soup.prettify(), \"html.parser\")\n",
    "#titles=soup.find_all(class_='product-card__title')\n",
    "#for title in titles:\n",
    "    #print(title.get_text())\n"
   ]
  },
  {
   "cell_type": "code",
   "execution_count": 129,
   "id": "cf273efb-8b55-4f58-b93e-1de0fe66d8d7",
   "metadata": {},
   "outputs": [
    {
     "name": "stdout",
     "output_type": "stream",
     "text": [
      "Nike Dunk Low Next Nature\n",
      "Nike Air Max 90 SE\n",
      "Nike LD-1000\n",
      "Nike Court Legacy Lift\n",
      "Nike P-6000\n",
      "Nike Field General\n",
      "Nike Free Metcon 6\n",
      "Nike Metcon 9 Premium\n",
      "Nike Air Max 270\n",
      "Nike Air Max Dn\n",
      "Nike Shox TL\n",
      "Nike Shox R4\n",
      "Nike V2K Run\n",
      "Nike Zoom Vomero 5\n",
      "Sabrina 2\n",
      "Nike ReactX Rejuven8\n",
      "Nike Invincible 3 Premium\n",
      "Nike Pegasus Premium\n",
      "Nike Vaporfly 3\n",
      "Nike Pegasus 41 PRM\n",
      "Nike Structure 25 Premium\n",
      "Nike Pegasus 41 GORE-TEX\n",
      "Nike Vomero 17\n",
      "Nike Motiva Premium\n"
     ]
    }
   ],
   "source": [
    "soup=BeautifulSoup(URL.content,'html.parser')\n",
    "soup2 = BeautifulSoup(soup.prettify(), \"html.parser\")\n",
    "#titles=soup.find_all(class_='product-card__title')\n",
    "#for title in titles:\n",
    "    #print(title.get_text())\n"
   ]
  },
  {
   "cell_type": "code",
   "execution_count": 77,
   "id": "581e23c0-96b3-4cca-a713-c892de07b6f7",
   "metadata": {},
   "outputs": [
    {
     "name": "stdout",
     "output_type": "stream",
     "text": [
      "$115\n",
      "$140\n",
      "$100\n",
      "$90\n",
      "$110\n",
      "$100\n",
      "$120\n",
      "$160\n",
      "$160\n",
      "$160\n",
      "$180\n",
      "$150\n",
      "$120\n",
      "$160\n",
      "$130\n",
      "$70\n",
      "$190\n",
      "$210\n",
      "$260\n",
      "$150\n",
      "$150\n",
      "$120\n"
     ]
    }
   ],
   "source": [
    "prices=soup.find_all(class_='product-price us__styling is--current-price css-11s12ax')\n",
    "for price in prices:\n",
    "    print(price.get_text())\n"
   ]
  },
  {
   "cell_type": "code",
   "execution_count": 113,
   "id": "44655435-9362-40be-b7c5-7b34f1a6c7d9",
   "metadata": {},
   "outputs": [
    {
     "name": "stdout",
     "output_type": "stream",
     "text": [
      "Women's Shoes\n",
      "Women's Shoes\n",
      "Women's Shoes\n",
      "Women's Shoes\n",
      "Women's Shoes\n",
      "Women's Shoes\n",
      "Women's Workout Shoes\n",
      "Women's Workout Shoes\n",
      "Women's Shoes\n",
      "Women's Shoes\n",
      "Women's Shoes\n",
      "Women's Shoes\n",
      "Women's Shoes\n",
      "Women's Shoes\n",
      "Basketball Shoes\n",
      "Women's Shoes\n",
      "Women's Road Running Shoes\n",
      "Women's Road Running Shoes\n",
      "Women's Road Racing Shoes\n",
      "Women's Road Running Shoes with Metallic Accents\n",
      "Women's Road Running Shoes\n",
      "Women's Waterproof Road Running Shoes\n",
      "Women's Road Running Shoes\n",
      "Women's Walking Shoes\n"
     ]
    }
   ],
   "source": [
    "categories=soup.find_all(class_='product-card__subtitle')\n",
    "for category in categories:\n",
    "    print(category.get_text())"
   ]
  },
  {
   "cell_type": "code",
   "execution_count": 169,
   "id": "c9ecdc43-6627-492b-8b40-84cf9845533e",
   "metadata": {},
   "outputs": [
    {
     "name": "stdout",
     "output_type": "stream",
     "text": [
      "                      Product    Price  \\\n",
      "0   Nike Dunk Low Next Nature     $115   \n",
      "1          Nike Air Max 90 SE     $140   \n",
      "2                Nike LD-1000     $100   \n",
      "3      Nike Court Legacy Lift      $90   \n",
      "4                 Nike P-6000     $110   \n",
      "5          Nike Field General     $100   \n",
      "6          Nike Free Metcon 6     $120   \n",
      "7       Nike Metcon 9 Premium     $160   \n",
      "8            Nike Air Max 270     $160   \n",
      "9             Nike Air Max Dn     $160   \n",
      "10               Nike Shox TL     $180   \n",
      "11               Nike Shox R4     $150   \n",
      "12               Nike V2K Run     $120   \n",
      "13         Nike Zoom Vomero 5     $160   \n",
      "14                  Sabrina 2     $130   \n",
      "15       Nike ReactX Rejuven8      $70   \n",
      "16  Nike Invincible 3 Premium     $190   \n",
      "17       Nike Pegasus Premium     $210   \n",
      "18            Nike Vaporfly 3     $260   \n",
      "19        Nike Pegasus 41 PRM     $150   \n",
      "20  Nike Structure 25 Premium     $150   \n",
      "21   Nike Pegasus 41 GORE-TEX     $120   \n",
      "22             Nike Vomero 17  $112.97   \n",
      "23        Nike Motiva Premium  $104.97   \n",
      "\n",
      "                                            Category  \n",
      "0                                      Women's Shoes  \n",
      "1                                      Women's Shoes  \n",
      "2                                      Women's Shoes  \n",
      "3                                      Women's Shoes  \n",
      "4                                      Women's Shoes  \n",
      "5                                      Women's Shoes  \n",
      "6                              Women's Workout Shoes  \n",
      "7                              Women's Workout Shoes  \n",
      "8                                      Women's Shoes  \n",
      "9                                      Women's Shoes  \n",
      "10                                     Women's Shoes  \n",
      "11                                     Women's Shoes  \n",
      "12                                     Women's Shoes  \n",
      "13                                     Women's Shoes  \n",
      "14                                  Basketball Shoes  \n",
      "15                                     Women's Shoes  \n",
      "16                        Women's Road Running Shoes  \n",
      "17                        Women's Road Running Shoes  \n",
      "18                         Women's Road Racing Shoes  \n",
      "19  Women's Road Running Shoes with Metallic Accents  \n",
      "20                        Women's Road Running Shoes  \n",
      "21             Women's Waterproof Road Running Shoes  \n",
      "22                        Women's Road Running Shoes  \n",
      "23                             Women's Walking Shoes  \n"
     ]
    }
   ],
   "source": [
    "titles = soup.find_all(class_='product-card__title')\n",
    "title_texts = [title.get_text() for title in titles]\n",
    "\n",
    "prices=soup.find_all(class_='product-price us__styling is--current-price css-11s12ax')\n",
    "sale_prices=soup.find_all(class_='product-price is--current-price css-1ydfahe')\n",
    "price_texts = []\n",
    "for price in prices:\n",
    "    if price.get_text() != '':\n",
    "        price_texts.append(price.get_text())\n",
    "\n",
    "for sale_price in sale_prices:\n",
    "    if sale_price.get_text() != '':\n",
    "        price_texts.append(sale_price.get_text())\n",
    "\n",
    "categories=soup.find_all(class_='product-card__subtitle')\n",
    "category_texts = [category.get_text() for category in categories]\n",
    "\n",
    "df = pd.DataFrame({\n",
    "    'Product':title_texts,\n",
    "    'Price':price_texts,\n",
    "    'Category':category_texts\n",
    "    \n",
    "})\n",
    "\n",
    "\n",
    "print(df)"
   ]
  },
  {
   "cell_type": "code",
   "execution_count": 171,
   "id": "9c02de3c-245d-425d-aaf2-830ac305f080",
   "metadata": {},
   "outputs": [],
   "source": [
    "df.to_csv(r'C:\\Users\\dorot\\Desktop\\nike.csv')"
   ]
  },
  {
   "cell_type": "code",
   "execution_count": null,
   "id": "114cf67a-44de-4895-a9a5-fa2748bf8f7e",
   "metadata": {},
   "outputs": [],
   "source": []
  }
 ],
 "metadata": {
  "kernelspec": {
   "display_name": "PythonBS",
   "language": "python",
   "name": "pythonbs"
  },
  "language_info": {
   "codemirror_mode": {
    "name": "ipython",
    "version": 3
   },
   "file_extension": ".py",
   "mimetype": "text/x-python",
   "name": "python",
   "nbconvert_exporter": "python",
   "pygments_lexer": "ipython3",
   "version": "3.13.2"
  }
 },
 "nbformat": 4,
 "nbformat_minor": 5
}
